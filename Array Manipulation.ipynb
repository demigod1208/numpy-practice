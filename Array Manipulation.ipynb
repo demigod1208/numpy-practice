{
  "nbformat": 4,
  "nbformat_minor": 0,
  "metadata": {
    "colab": {
      "provenance": [],
      "authorship_tag": "ABX9TyMWo7+LwAu+k6kkfy3Dswea",
      "include_colab_link": true
    },
    "kernelspec": {
      "name": "python3",
      "display_name": "Python 3"
    },
    "language_info": {
      "name": "python"
    }
  },
  "cells": [
    {
      "cell_type": "markdown",
      "metadata": {
        "id": "view-in-github",
        "colab_type": "text"
      },
      "source": [
        "<a href=\"https://colab.research.google.com/github/demigod1208/numpy-practice/blob/main/Array%20Manipulation.ipynb\" target=\"_parent\"><img src=\"https://colab.research.google.com/assets/colab-badge.svg\" alt=\"Open In Colab\"/></a>"
      ]
    },
    {
      "cell_type": "code",
      "execution_count": 3,
      "metadata": {
        "colab": {
          "base_uri": "https://localhost:8080/"
        },
        "id": "-8okkhKfuHBA",
        "outputId": "abd0e433-174c-489a-de43-cc5c3f5cedc4"
      },
      "outputs": [
        {
          "output_type": "stream",
          "name": "stdout",
          "text": [
            "[ 0  1  2  3  4  5  6  7  8  9 10 11]\n"
          ]
        },
        {
          "output_type": "execute_result",
          "data": {
            "text/plain": [
              "array([[ 0,  1],\n",
              "       [ 2,  3],\n",
              "       [ 4,  5],\n",
              "       [ 6,  7],\n",
              "       [ 8,  9],\n",
              "       [10, 11]])"
            ]
          },
          "metadata": {},
          "execution_count": 3
        }
      ],
      "source": [
        "#array manipullation\n",
        "\n",
        "# reshape()\n",
        "\n",
        "import numpy as np\n",
        "import random as r\n",
        "\n",
        "a = np.arange(12)\n",
        "print(a)\n",
        "a.reshape(4,3)\n",
        "np.reshape(a,(6,2))"
      ]
    },
    {
      "cell_type": "code",
      "source": [
        "# ravel()\n",
        "\n",
        "a = np.arange(16)\n",
        "a = np.reshape(a,(2,8))\n",
        "print(a)\n",
        "print()\n",
        "b =a.ravel()\n",
        "print(b)\n",
        "print()\n",
        "d = a.reshape(-1)\n",
        "print(d)\n",
        "print()\n",
        "\n",
        "# flatten()\n",
        "c = a.flatten()\n",
        "print(c)\n"
      ],
      "metadata": {
        "colab": {
          "base_uri": "https://localhost:8080/"
        },
        "id": "xqrwG-5currG",
        "outputId": "9adf7086-7d93-46f6-f21e-322dad7a4b8a"
      },
      "execution_count": 4,
      "outputs": [
        {
          "output_type": "stream",
          "name": "stdout",
          "text": [
            "[[ 0  1  2  3  4  5  6  7]\n",
            " [ 8  9 10 11 12 13 14 15]]\n",
            "\n",
            "[ 0  1  2  3  4  5  6  7  8  9 10 11 12 13 14 15]\n",
            "\n",
            "[ 0  1  2  3  4  5  6  7  8  9 10 11 12 13 14 15]\n",
            "\n",
            "[ 0  1  2  3  4  5  6  7  8  9 10 11 12 13 14 15]\n"
          ]
        }
      ]
    },
    {
      "cell_type": "code",
      "source": [
        "# transpose\n",
        "\n",
        "a = np.arange(32).reshape(8,4)\n",
        "print(a)\n",
        "print()\n",
        "b = np.transpose(a)\n",
        "print(b)\n",
        "print()\n",
        "c = a.T\n",
        "print(c)"
      ],
      "metadata": {
        "colab": {
          "base_uri": "https://localhost:8080/"
        },
        "id": "kKqi3X1qvkPp",
        "outputId": "bf367cdd-c3e8-40dd-d8a7-231a4d37f094"
      },
      "execution_count": 5,
      "outputs": [
        {
          "output_type": "stream",
          "name": "stdout",
          "text": [
            "[[ 0  1  2  3]\n",
            " [ 4  5  6  7]\n",
            " [ 8  9 10 11]\n",
            " [12 13 14 15]\n",
            " [16 17 18 19]\n",
            " [20 21 22 23]\n",
            " [24 25 26 27]\n",
            " [28 29 30 31]]\n",
            "\n",
            "[[ 0  4  8 12 16 20 24 28]\n",
            " [ 1  5  9 13 17 21 25 29]\n",
            " [ 2  6 10 14 18 22 26 30]\n",
            " [ 3  7 11 15 19 23 27 31]]\n",
            "\n",
            "[[ 0  4  8 12 16 20 24 28]\n",
            " [ 1  5  9 13 17 21 25 29]\n",
            " [ 2  6 10 14 18 22 26 30]\n",
            " [ 3  7 11 15 19 23 27 31]]\n"
          ]
        }
      ]
    },
    {
      "cell_type": "code",
      "source": [
        "# expand_dims_ () & Squeeze()\n",
        "\n",
        "a = np.arange(32).reshape(8,4)\n",
        "print(a)\n",
        "print(a.shape)\n",
        "print()\n",
        "b = np.array([[[1],[1],[3]],[[2],[2],[7]],[[12],[32],[43]]])\n",
        "print(b)\n",
        "print(b.shape)\n",
        "print(b.ndim)\n",
        "print()\n",
        "\n",
        "# expand dims()\n",
        "\n",
        "e = np.expand_dims(a,axis=0)\n",
        "print(e.shape)\n",
        "print()\n",
        "\n",
        "r = np.expand_dims(a,axis=1)\n",
        "print(r.shape)\n",
        "print()\n",
        "\n",
        "s = np.squeeze(e,axis=0)\n",
        "print(s.shape)\n",
        "print()"
      ],
      "metadata": {
        "colab": {
          "base_uri": "https://localhost:8080/"
        },
        "id": "Jhks6xjWxAfz",
        "outputId": "431b4d99-4ff5-4422-bc92-18c1bbda97f7"
      },
      "execution_count": 6,
      "outputs": [
        {
          "output_type": "stream",
          "name": "stdout",
          "text": [
            "[[ 0  1  2  3]\n",
            " [ 4  5  6  7]\n",
            " [ 8  9 10 11]\n",
            " [12 13 14 15]\n",
            " [16 17 18 19]\n",
            " [20 21 22 23]\n",
            " [24 25 26 27]\n",
            " [28 29 30 31]]\n",
            "(8, 4)\n",
            "\n",
            "[[[ 1]\n",
            "  [ 1]\n",
            "  [ 3]]\n",
            "\n",
            " [[ 2]\n",
            "  [ 2]\n",
            "  [ 7]]\n",
            "\n",
            " [[12]\n",
            "  [32]\n",
            "  [43]]]\n",
            "(3, 3, 1)\n",
            "3\n",
            "\n",
            "(1, 8, 4)\n",
            "\n",
            "(8, 1, 4)\n",
            "\n",
            "(8, 4)\n",
            "\n"
          ]
        }
      ]
    },
    {
      "cell_type": "code",
      "source": [
        "#Joining And Spliting Array\n",
        "import random as r\n",
        "\n",
        "ma = np.arange(24).reshape(6,4)\n",
        "print(ma)\n",
        "print()\n",
        "mb = [r.randint(0,50) for i in range(24)]\n",
        "mb = np.array(mb).reshape(6,4)\n",
        "print(mb)\n",
        "print()\n",
        "# joining of array\n",
        "\n",
        "#concatenate()\n",
        "\n",
        "con = np.concatenate((ma,mb),axis=None)\n",
        "print(\"concatenate with axis is none\",con)\n",
        "print()\n",
        "con1 = np.concatenate((ma,mb),axis=1)\n",
        "print(\"concatenate with axis is 1\",con1)\n",
        "print()\n",
        "con2 = np.concatenate((ma,mb),axis=0)\n",
        "print(\"concatenate with axis is 2\",con2)"
      ],
      "metadata": {
        "colab": {
          "base_uri": "https://localhost:8080/"
        },
        "id": "sCLkJxgACUdQ",
        "outputId": "6c9670fc-6d46-4a5f-da99-987f07227610"
      },
      "execution_count": 11,
      "outputs": [
        {
          "output_type": "stream",
          "name": "stdout",
          "text": [
            "[[ 0  1  2  3]\n",
            " [ 4  5  6  7]\n",
            " [ 8  9 10 11]\n",
            " [12 13 14 15]\n",
            " [16 17 18 19]\n",
            " [20 21 22 23]]\n",
            "\n",
            "[[42 22 38 21]\n",
            " [10 39  6 30]\n",
            " [32 30  8  3]\n",
            " [38  8  5 17]\n",
            " [14 49  3 46]\n",
            " [47  4 25 33]]\n",
            "\n",
            "[ 0  1  2  3  4  5  6  7  8  9 10 11 12 13 14 15 16 17 18 19 20 21 22 23\n",
            " 42 22 38 21 10 39  6 30 32 30  8  3 38  8  5 17 14 49  3 46 47  4 25 33]\n",
            "\n",
            "[[ 0  1  2  3 42 22 38 21]\n",
            " [ 4  5  6  7 10 39  6 30]\n",
            " [ 8  9 10 11 32 30  8  3]\n",
            " [12 13 14 15 38  8  5 17]\n",
            " [16 17 18 19 14 49  3 46]\n",
            " [20 21 22 23 47  4 25 33]]\n",
            "\n",
            "[[ 0  1  2  3]\n",
            " [ 4  5  6  7]\n",
            " [ 8  9 10 11]\n",
            " [12 13 14 15]\n",
            " [16 17 18 19]\n",
            " [20 21 22 23]\n",
            " [42 22 38 21]\n",
            " [10 39  6 30]\n",
            " [32 30  8  3]\n",
            " [38  8  5 17]\n",
            " [14 49  3 46]\n",
            " [47  4 25 33]]\n"
          ]
        }
      ]
    },
    {
      "cell_type": "code",
      "source": [
        "#joining array\n",
        "\n",
        "#stack\n",
        "ma = [r.randint(0,50) for i in range(24)]\n",
        "ma = np.array(ma).reshape(6,4)\n",
        "print(ma)\n",
        "print()\n",
        "mb = [r.randint(0,50) for i in range(24)]\n",
        "mb = np.array(mb).reshape(6,4)\n",
        "print(mb)\n",
        "print()\n",
        "\n",
        "#stack\n",
        "stc = np.stack((ma,mb))\n",
        "print(\" stack with axis is none\",stc)\n",
        "print()\n",
        "\n",
        "\n",
        "stc1 = np.stack((ma,mb),axis=0)\n",
        "print(\" stack with axis is 0\",stc1)\n",
        "print()\n",
        "\n",
        "\n",
        "stc2 = np.stack((ma,mb),axis=1)\n",
        "print(\" stack with axis is one\",stc2)\n",
        "print()\n"
      ],
      "metadata": {
        "id": "zYmpMag4Pe0g",
        "colab": {
          "base_uri": "https://localhost:8080/"
        },
        "outputId": "e3fb29e4-3910-4bd4-bf61-5dd6b2cf5195"
      },
      "execution_count": 22,
      "outputs": [
        {
          "output_type": "stream",
          "name": "stdout",
          "text": [
            "[[26  6 13 44]\n",
            " [24  3  6 37]\n",
            " [16  6 22 14]\n",
            " [47  1 42 50]\n",
            " [48 50 50 22]\n",
            " [ 5 48 36 22]]\n",
            "\n",
            "[[37 29 19 23]\n",
            " [22 50  5 32]\n",
            " [27 30 18 21]\n",
            " [ 2  8 34 12]\n",
            " [31 24 23 21]\n",
            " [ 4 47 38 27]]\n",
            "\n",
            " stack with axis is none [[[26  6 13 44]\n",
            "  [24  3  6 37]\n",
            "  [16  6 22 14]\n",
            "  [47  1 42 50]\n",
            "  [48 50 50 22]\n",
            "  [ 5 48 36 22]]\n",
            "\n",
            " [[37 29 19 23]\n",
            "  [22 50  5 32]\n",
            "  [27 30 18 21]\n",
            "  [ 2  8 34 12]\n",
            "  [31 24 23 21]\n",
            "  [ 4 47 38 27]]]\n",
            "\n",
            " stack with axis is 0 [[[26  6 13 44]\n",
            "  [24  3  6 37]\n",
            "  [16  6 22 14]\n",
            "  [47  1 42 50]\n",
            "  [48 50 50 22]\n",
            "  [ 5 48 36 22]]\n",
            "\n",
            " [[37 29 19 23]\n",
            "  [22 50  5 32]\n",
            "  [27 30 18 21]\n",
            "  [ 2  8 34 12]\n",
            "  [31 24 23 21]\n",
            "  [ 4 47 38 27]]]\n",
            "\n",
            " stack with axis is one [[[26  6 13 44]\n",
            "  [37 29 19 23]]\n",
            "\n",
            " [[24  3  6 37]\n",
            "  [22 50  5 32]]\n",
            "\n",
            " [[16  6 22 14]\n",
            "  [27 30 18 21]]\n",
            "\n",
            " [[47  1 42 50]\n",
            "  [ 2  8 34 12]]\n",
            "\n",
            " [[48 50 50 22]\n",
            "  [31 24 23 21]]\n",
            "\n",
            " [[ 5 48 36 22]\n",
            "  [ 4 47 38 27]]]\n",
            "\n"
          ]
        }
      ]
    },
    {
      "cell_type": "code",
      "source": [
        "#joining array\n",
        "\n",
        "#vertical stack\n",
        "\n",
        "ma = [r.randint(0,50) for i in range(24)]\n",
        "ma = np.array(ma).reshape(6,4)\n",
        "print(ma)\n",
        "print()\n",
        "mb = [r.randint(0,50) for i in range(24)]\n",
        "mb = np.array(mb).reshape(6,4)\n",
        "print(mb)\n",
        "print()\n",
        "\n",
        "#vertical_stack:\n",
        "\n",
        "v_stc = np.vstack((ma,mb))\n",
        "print(\"vertical stack:\",v_stc)\n",
        "print()\n",
        "\n",
        "#horizontalstack\n",
        "h_stc = np.hstack((ma,mb))\n",
        "print(\"vertical stack:\",h_stc)\n",
        "print()\n"
      ],
      "metadata": {
        "colab": {
          "base_uri": "https://localhost:8080/"
        },
        "id": "k6p1EvJg7AYL",
        "outputId": "03f58aab-7b9b-4a77-8266-030dffd4045f"
      },
      "execution_count": 34,
      "outputs": [
        {
          "output_type": "stream",
          "name": "stdout",
          "text": [
            "[[39  1 33 31]\n",
            " [13 14  5  9]\n",
            " [43 35  1 39]\n",
            " [ 2  4  2  9]\n",
            " [14 17 13 26]\n",
            " [50 50  4 12]]\n",
            "\n",
            "[[ 7 47 45 20]\n",
            " [16  8  4 20]\n",
            " [ 8 25 21 27]\n",
            " [ 8 12 15  1]\n",
            " [24 30 22 40]\n",
            " [22 48 49 20]]\n",
            "\n",
            "vertical stack: [[39  1 33 31]\n",
            " [13 14  5  9]\n",
            " [43 35  1 39]\n",
            " [ 2  4  2  9]\n",
            " [14 17 13 26]\n",
            " [50 50  4 12]\n",
            " [ 7 47 45 20]\n",
            " [16  8  4 20]\n",
            " [ 8 25 21 27]\n",
            " [ 8 12 15  1]\n",
            " [24 30 22 40]\n",
            " [22 48 49 20]]\n",
            "\n",
            "vertical stack: [[39  1 33 31  7 47 45 20]\n",
            " [13 14  5  9 16  8  4 20]\n",
            " [43 35  1 39  8 25 21 27]\n",
            " [ 2  4  2  9  8 12 15  1]\n",
            " [14 17 13 26 24 30 22 40]\n",
            " [50 50  4 12 22 48 49 20]]\n",
            "\n"
          ]
        }
      ]
    },
    {
      "cell_type": "code",
      "source": [
        "#   Spliting of array\n",
        "\n",
        "ma = [r.randint(0,50) for i in range(24)]\n",
        "ma = np.array(ma).reshape(6,4)\n",
        "print(ma)\n",
        "print()\n",
        "\n",
        "# split()\n",
        "\n",
        "spl = np.split(ma,6)\n",
        "print(\" stack with axis is none\",spl)\n",
        "print()\n",
        "\n",
        "# hsplit()\n",
        "\n",
        "hspl = np.hsplit(ma,4)\n",
        "print(\" stack with axis is none\",hspl)\n",
        "print()\n",
        "\n",
        "# vsplit()\n",
        "\n",
        "vspl = np.vsplit(ma,6)\n",
        "print(\" stack with axis is none\",vspl)\n",
        "print()\n",
        "\n",
        "\n"
      ],
      "metadata": {
        "colab": {
          "base_uri": "https://localhost:8080/"
        },
        "id": "71pZtw4pByUE",
        "outputId": "8b61b454-9c2c-4779-8af6-49a0fe12996d"
      },
      "execution_count": 41,
      "outputs": [
        {
          "output_type": "stream",
          "name": "stdout",
          "text": [
            "[[49 48 22 39]\n",
            " [19 28 29 26]\n",
            " [47  5 22  3]\n",
            " [18 19 31 16]\n",
            " [20 35 37  0]\n",
            " [24 46  3 25]]\n",
            "\n",
            " stack with axis is none [array([[49, 48, 22, 39]]), array([[19, 28, 29, 26]]), array([[47,  5, 22,  3]]), array([[18, 19, 31, 16]]), array([[20, 35, 37,  0]]), array([[24, 46,  3, 25]])]\n",
            "\n",
            " stack with axis is none [array([[49],\n",
            "       [19],\n",
            "       [47],\n",
            "       [18],\n",
            "       [20],\n",
            "       [24]]), array([[48],\n",
            "       [28],\n",
            "       [ 5],\n",
            "       [19],\n",
            "       [35],\n",
            "       [46]]), array([[22],\n",
            "       [29],\n",
            "       [22],\n",
            "       [31],\n",
            "       [37],\n",
            "       [ 3]]), array([[39],\n",
            "       [26],\n",
            "       [ 3],\n",
            "       [16],\n",
            "       [ 0],\n",
            "       [25]])]\n",
            "\n",
            " stack with axis is none [array([[49, 48, 22, 39]]), array([[19, 28, 29, 26]]), array([[47,  5, 22,  3]]), array([[18, 19, 31, 16]]), array([[20, 35, 37,  0]]), array([[24, 46,  3, 25]])]\n",
            "\n"
          ]
        }
      ]
    },
    {
      "cell_type": "code",
      "source": [],
      "metadata": {
        "id": "JlZKDsOfCSDU"
      },
      "execution_count": null,
      "outputs": []
    }
  ]
}