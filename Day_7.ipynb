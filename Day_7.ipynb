{
  "cells": [
    {
      "cell_type": "markdown",
      "metadata": {
        "id": "view-in-github",
        "colab_type": "text"
      },
      "source": [
        "<a href=\"https://colab.research.google.com/github/demigod1208/numpy-practice/blob/main/Day_7.ipynb\" target=\"_parent\"><img src=\"https://colab.research.google.com/assets/colab-badge.svg\" alt=\"Open In Colab\"/></a>"
      ]
    },
    {
      "cell_type": "code",
      "execution_count": 3,
      "metadata": {
        "colab": {
          "base_uri": "https://localhost:8080/"
        },
        "id": "WOwQngHebTNl",
        "outputId": "90cffe27-87e6-44da-aeae-b578c8ea58a7"
      },
      "outputs": [
        {
          "output_type": "stream",
          "name": "stdout",
          "text": [
            "[False False False]\n",
            "\n",
            "[-1 -1  0]\n",
            "\n",
            "<class 'numpy.ndarray'>\n"
          ]
        }
      ],
      "source": [
        "# creation array using existing data and isnan()\n",
        "import numpy as np\n",
        "\n",
        "a = np.arange(0,9).reshape(3,3)\n",
        "b = np.arange(10,19).reshape(3,3)\n",
        "d = [-1,-1,0]\n",
        "e = np.array(d)\n",
        "c = np.isnan(e)\n",
        "print(c)\n",
        "print()\n",
        "print(e)\n",
        "print()\n",
        "print(type(e))"
      ]
    },
    {
      "cell_type": "code",
      "execution_count": 30,
      "metadata": {
        "colab": {
          "base_uri": "https://localhost:8080/"
        },
        "id": "sbZSMXaFboNj",
        "outputId": "e8fa1a52-51d8-463a-994c-b6e1675aecfb"
      },
      "outputs": [
        {
          "output_type": "stream",
          "name": "stdout",
          "text": [
            "[420. 280. 350. 269. 317. 470. 333. 365. 305. 350. 460. 474. 409. 377.\n",
            " 415. 382. 298. 462. 370. 313. 464. 302. 252. 259. 308. 392. 424. 403.\n",
            " 370. 328. 398. 434. 291. 472. 263. 439. 464. 449. 401. 364. 296. 292.\n",
            " 438. 357. 331. 317. 429. 407. 321. 274. 447. 274. 437. 411. 257. 310.\n",
            " 396. 270. 311. 459. 378. 316. 283. 266. 381. 409. 313. 306. 448. 348.\n",
            " 292. 400. 352. 441. 428. 309. 441. 439. 264. 281. 302. 432. 423. 336.\n",
            " 383. 321. 469. 270. 341. 281. 403. 333. 323. 348. 345. 397. 449. 261.\n",
            " 456. 370. 322. 379. 446. 404. 301. 254. 351. 444. 264. 286. 463. 273.\n",
            " 316. 324. 465. 398. 324. 340. 414. 346. 408. 332. 394. 474. 398. 262.\n",
            " 410. 391. 444. 461.]\n",
            "\n",
            "474.0\n",
            "\n",
            "252.0\n",
            "\n",
            "364.2769230769231\n",
            "\n",
            "66.17947803971762\n",
            "\n",
            "47356.0\n",
            "\n",
            "True\n"
          ]
        }
      ],
      "source": [
        "#aggregiate function\n",
        "\n",
        "cars = np.loadtxt(\"/content/marks.csv\",delimiter=',',usecols=(5),skiprows=1)\n",
        "print(cars)\n",
        "print()\n",
        "\n",
        "maximum = cars.max()\n",
        "print(maximum)\n",
        "print()\n",
        "\n",
        "minimum = cars.min()\n",
        "print(minimum)\n",
        "print()\n",
        "\n",
        "means = cars.mean()\n",
        "print(means)\n",
        "print()\n",
        "\n",
        "s_d = cars.std()\n",
        "print(s_d)\n",
        "print()\n",
        "\n",
        "total_values = cars.sum()\n",
        "print(total_values)\n",
        "print()\n",
        "\n",
        "al = np.all(cars)\n",
        "print(al)"
      ]
    },
    {
      "cell_type": "code",
      "execution_count": 63,
      "metadata": {
        "colab": {
          "base_uri": "https://localhost:8080/"
        },
        "id": "Bh7KqLPTmUWS",
        "outputId": "be9abd88-55ea-4470-afb3-22952a83ca75"
      },
      "outputs": [
        {
          "output_type": "stream",
          "name": "stdout",
          "text": [
            "[ 83. 151.  86. ... 369. 490. 632.]\n",
            "\n",
            "<class 'numpy.ndarray'>\n",
            "2232.0\n",
            "\n",
            "0.0\n",
            "\n",
            "80.57892551258759\n",
            "\n",
            "112.82608898549202\n",
            "\n",
            "3104706.0\n",
            "\n",
            "False\n",
            "\n",
            "[[ 86.   7.  35.]\n",
            " [ 58.  10.  11.]\n",
            " [152.  82.   5.]]\n",
            "\n"
          ]
        }
      ],
      "source": [
        "cars = np.loadtxt(\"/cars.csv\",delimiter=\",\",usecols=(29),skiprows=2)\n",
        "print(cars)\n",
        "print()\n",
        "print(type(cars))\n",
        "maximum = cars.max()\n",
        "print(maximum)\n",
        "print()\n",
        "\n",
        "minimum = cars.min()\n",
        "print(minimum)\n",
        "print()\n",
        "\n",
        "means = cars.mean()\n",
        "print(means)\n",
        "print()\n",
        "\n",
        "s_d = cars.std()\n",
        "print(s_d)\n",
        "print()\n",
        "\n",
        "total_values = cars.sum()\n",
        "print(total_values)\n",
        "print()\n",
        "\n",
        "al = np.all(cars)\n",
        "print(al)\n",
        "print()\n",
        "\n",
        "i = np.array([[2,3,89],[77,98,9],[30000,10000,900]])\n",
        "print(cars[i])\n",
        "print()\n",
        "\n"
      ]
    },
    {
      "cell_type": "code",
      "execution_count": 17,
      "metadata": {
        "colab": {
          "base_uri": "https://localhost:8080/"
        },
        "id": "Ui6Pl2KGsR7l",
        "outputId": "6a58fb24-7e39-41ef-852c-e216c4a6d1f6"
      },
      "outputs": [
        {
          "output_type": "stream",
          "name": "stdout",
          "text": [
            "[ True  True  True  True  True  True False]\n",
            "\n",
            "[ True  True  True  True False False]\n"
          ]
        }
      ],
      "source": [
        "# logic function:Testing Array Type\n",
        "# np.iscomplex()\n",
        "# np.isreal()\n",
        "\n",
        "import numpy as np\n",
        "\n",
        "z = np.array( [ 2j+1, 9j-8, 7j+9, 9j-7, 0j+6 , 90 ] )\n",
        "x = np.array( [2,12,23,445,878,0,3+1j] )\n",
        "\n",
        "np_real = np.isreal(x)\n",
        "print(np_real)\n",
        "print()\n",
        "\n",
        "np_complex = np.iscomplex(z)\n",
        "print(np_complex)"
      ]
    },
    {
      "cell_type": "code",
      "execution_count": null,
      "metadata": {
        "colab": {
          "base_uri": "https://localhost:8080/"
        },
        "id": "00CEIFBt9lTV",
        "outputId": "4ce8fe1b-3de5-4aaa-deed-84f3e4bc6532"
      },
      "outputs": [
        {
          "name": "stdout",
          "output_type": "stream",
          "text": [
            "[26 18 20 20 24 28 20 28 14 12]\n",
            "\n",
            "True\n",
            "\n",
            "True\n",
            "\n"
          ]
        }
      ],
      "source": [
        "# Logic function : testing truth value\n",
        "# np.any()\n",
        "# np.all()\n",
        "\n",
        "import random as r\n",
        "x = []\n",
        "y = []\n",
        "i = 0\n",
        "for i in range(10):\n",
        "    b = r.randrange(10,33)\n",
        "    x.append(b)\n",
        "\n",
        "\n",
        "x1 = np.array(x)\n",
        "print(x1)\n",
        "print()\n",
        "\n",
        "np_all = np.all(x1)\n",
        "print(np_all)\n",
        "print()\n",
        "\n",
        "np_any = np.any(x1)\n",
        "print(np_any)\n",
        "print()"
      ]
    },
    {
      "cell_type": "code",
      "execution_count": null,
      "metadata": {
        "colab": {
          "base_uri": "https://localhost:8080/"
        },
        "id": "Ifc7g2CTk742",
        "outputId": "61503823-c969-43d8-db8a-fe1807ad29ec"
      },
      "outputs": [
        {
          "name": "stdout",
          "output_type": "stream",
          "text": [
            "[16 25 30 30 13 20 14 25 17 15]\n",
            "\n",
            "[ True  True  True  True  True  True  True  True  True  True]\n",
            "\n",
            "[ True  True  True  True  True  True  True  True  True  True]\n",
            "\n",
            "[False False False False False False False False False False]\n",
            "\n",
            "[False False False False False False False False False False]\n",
            "\n"
          ]
        }
      ],
      "source": [
        "# Logic Functions:Logical Operation\n",
        "import numpy as np\n",
        "import random as r\n",
        "\n",
        "x = []\n",
        "i = 0\n",
        "for i in range(10):\n",
        "    b = r.randrange(10,33)\n",
        "    x.append(b)\n",
        "\n",
        "\n",
        "x1 = np.array(x)\n",
        "print(x1)\n",
        "print()\n",
        "\n",
        "n_t = np.logical_and(x1>10,x1<50)\n",
        "print(n_t)\n",
        "print()\n",
        "\n",
        "o_o = np.logical_or(x1>10,x1<50)\n",
        "print(o_o)\n",
        "print()\n",
        "\n",
        "x_o = np.logical_xor(x1>10,x1<50)\n",
        "print(x_o)\n",
        "print()\n",
        "\n",
        "n_o = np.logical_not(x1>10,x1<50)\n",
        "print(n_o)\n",
        "print()"
      ]
    },
    {
      "cell_type": "code",
      "execution_count": 72,
      "metadata": {
        "colab": {
          "base_uri": "https://localhost:8080/"
        },
        "id": "G61Eb2bVl6jB",
        "outputId": "8811976c-d334-4cb6-e111-79f7a4b04c23"
      },
      "outputs": [
        {
          "output_type": "stream",
          "name": "stdout",
          "text": [
            "[1 2 3 4 5 6 7]\n",
            "\n",
            "[3 4 5 6 7 8 9]\n",
            "\n",
            "[0 1 2 3 4 5 6]\n",
            "\n",
            "[2 3 4]\n"
          ]
        }
      ],
      "source": [
        "#Slicing\n",
        "\n",
        "import numpy as np\n",
        "\n",
        "a = np.arange(10)\n",
        "a_slice = slice(1,8,1)\n",
        "print(a[a_slice])\n",
        "print()\n",
        "print(a[3:])\n",
        "print()\n",
        "print(a[:7])\n",
        "print()\n",
        "print(a[2:5])"
      ]
    },
    {
      "cell_type": "code",
      "source": [
        "#slicing in multidimensionla array\n",
        "a = np.arange(1,10).reshape(3,3)\n",
        "print(a)\n",
        "print()\n",
        "b = a[0:3,0:2]\n",
        "print(b)\n",
        "print()\n",
        "four = np.random.randint(0,30,(4,4))\n",
        "print(four)\n",
        "print()\n",
        "sli = four[2:4,2:4]\n",
        "print(sli)\n",
        "print()\n",
        "slicing = four[1:2,1:4]\n",
        "print(slicing)\n",
        "print()\n",
        "slicer = four[1:4,1:4]\n",
        "print(slicer)\n",
        "print()"
      ],
      "metadata": {
        "colab": {
          "base_uri": "https://localhost:8080/"
        },
        "id": "6XunQX-5cxvZ",
        "outputId": "0aa2edd5-a84a-43fe-9523-0e29887fdde5"
      },
      "execution_count": 91,
      "outputs": [
        {
          "output_type": "stream",
          "name": "stdout",
          "text": [
            "[[1 2 3]\n",
            " [4 5 6]\n",
            " [7 8 9]]\n",
            "\n",
            "[[1 2]\n",
            " [4 5]\n",
            " [7 8]]\n",
            "\n",
            "[[17  3  4 15]\n",
            " [24 14  2 27]\n",
            " [15 18 29  2]\n",
            " [20 25 26 24]]\n",
            "\n",
            "[[29  2]\n",
            " [26 24]]\n",
            "\n",
            "[[14  2 27]]\n",
            "\n",
            "[[14  2 27]\n",
            " [18 29  2]\n",
            " [25 26 24]]\n",
            "\n"
          ]
        }
      ]
    },
    {
      "cell_type": "code",
      "source": [
        "# nditer()\n",
        "\n",
        "x = np.array([[2,3,89],[77,98,9],[30000,10000,900]])\n",
        "print(x)\n",
        "print()\n",
        "a = np.nditer(i)\n",
        "for i in a:\n",
        "  print(i)\n",
        "\n",
        "# we can also do it by loop\n",
        "\n",
        "for b in x:\n",
        "  for c in b:\n",
        "    print(c)"
      ],
      "metadata": {
        "colab": {
          "base_uri": "https://localhost:8080/"
        },
        "id": "PVgtwnEOvhDV",
        "outputId": "a52657f4-bc67-4b79-f772-6b58cee9c90c"
      },
      "execution_count": 80,
      "outputs": [
        {
          "output_type": "stream",
          "name": "stdout",
          "text": [
            "[[    2     3    89]\n",
            " [   77    98     9]\n",
            " [30000 10000   900]]\n",
            "\n",
            "900\n",
            "2\n",
            "3\n",
            "89\n",
            "77\n",
            "98\n",
            "9\n",
            "30000\n",
            "10000\n",
            "900\n"
          ]
        }
      ]
    },
    {
      "cell_type": "code",
      "source": [],
      "metadata": {
        "id": "LTnRcp-MC62F"
      },
      "execution_count": null,
      "outputs": []
    }
  ],
  "metadata": {
    "colab": {
      "provenance": [],
      "authorship_tag": "ABX9TyPBSJGWYYN1aHiSJyhKIrmn",
      "include_colab_link": true
    },
    "kernelspec": {
      "display_name": "Python 3",
      "name": "python3"
    },
    "language_info": {
      "name": "python"
    }
  },
  "nbformat": 4,
  "nbformat_minor": 0
}